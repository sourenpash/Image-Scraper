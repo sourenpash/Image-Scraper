{
 "cells": [
  {
   "cell_type": "code",
   "execution_count": 2,
   "metadata": {},
   "outputs": [
    {
     "name": "stderr",
     "output_type": "stream",
     "text": [
      "/var/folders/07/9616v5k94_3fvs189sm0k31c0000gn/T/ipykernel_3247/993042883.py:15: DeprecationWarning: executable_path has been deprecated, please pass in a Service object\n",
      "  wd = webdriver.Chrome(executable_path=DRIVER_PATH)\n"
     ]
    }
   ],
   "source": [
    "import re\n",
    "import selenium\n",
    "import time\n",
    "from selenium import webdriver\n",
    "from selenium.webdriver.common.by import By\n",
    "from selenium.webdriver.support.ui import WebDriverWait\n",
    "from selenium.webdriver.support import expected_conditions as EC\n",
    "from selenium.webdriver.common.keys import Keys\n",
    "\n",
    "\n",
    "# This is the path I use\n",
    "# DRIVER_PATH = '.../Desktop/Scraping/chromedriver 2'\n",
    "# Put the path for your ChromeDriver here\n",
    "DRIVER_PATH = 'chromedriver_mac64/chromedriver'\n",
    "wd = webdriver.Chrome(executable_path=DRIVER_PATH)"
   ]
  },
  {
   "cell_type": "code",
   "execution_count": 45,
   "metadata": {},
   "outputs": [],
   "source": [
    "\n",
    "wd.get(\"https://ru.lightning.force.com/\")"
   ]
  },
  {
   "cell_type": "code",
   "execution_count": 48,
   "metadata": {},
   "outputs": [],
   "source": [
    "search_box=wd.find_element(By.ID ,\"username\")\n",
    "search_box.send_keys('ashton.feas@ryerson.ca')\n",
    "search_box=wd.find_element(By.ID ,\"password\")\n",
    "search_box.send_keys('Omicron42!@#$',Keys.RETURN)"
   ]
  },
  {
   "cell_type": "code",
   "execution_count": 49,
   "metadata": {},
   "outputs": [],
   "source": [
    "#this is the cell that should be itterated over to do the searching, its a bit slow because it has to wait for the page to reload, so in a loop that time could add up. \n",
    "wd.get(\"https://ru.lightning.force.com/lightning/page/home\")\n",
    "search_box=wd.find_element(By.XPATH ,'/html/body/div[4]/div[1]/section/header/div[2]/div[2]/div/button').click()\n",
    "search_box=wd.find_element(By.XPATH ,'/html/body/div[4]/div[2]/div[1]/div/div[1]/div/div[1]/lightning-input/div/input')\n",
    "search_box.send_keys('DEI',Keys.RETURN)"
   ]
  },
  {
   "cell_type": "code",
   "execution_count": 50,
   "metadata": {},
   "outputs": [],
   "source": [
    "#this cell will click on first resualt \n",
    "search_box=wd.find_element(By.XPATH ,'/html/body/div[4]/div[1]/section/div[1]/div[2]/div[2]/div[1]/div/div/div/div[2]/div/div[2]/div/div/div/div[3]/div/div/div/div[2]/div[1]/div[2]/div/div/div/div[2]/div[2]/div[1]/div/div/table/tbody/tr[1]/th/span/a').click()"
   ]
  },
  {
   "cell_type": "code",
   "execution_count": 51,
   "metadata": {},
   "outputs": [],
   "source": [
    "#check to see how many contacts are there\n",
    "elementval = wd.find_element(By.XPATH, '/html/body/div[4]/div[1]/section/div[1]/div[2]/div[2]/div[1]/div/div/div/div[2]/div/one-record-home-flexipage2/forcegenerated-adg-rollup_component___force-generated__flexipage_-record-page___-account_-f-e-a-s___-account___-v-i-e-w/forcegenerated-flexipage_account_feas_account__view_js/record_flexipage-record-page-decorator/div[1]/records-record-layout-event-broker/slot/slot/flexipage-record-home-three-col-header-template-desktop2/div/div[2]/div[1]/slot/flexipage-component2[2]/slot/lst-related-list-container/div/div[1]/lst-related-list-single-container/laf-progressive-container/slot/lst-related-list-single-aura-wrapper/div/div/article/div[1]/header/div[2]/h2/a/span[2]').text\n",
    "elementval = re.sub(\"[^0-9]\", \"\", elementval)\n",
    "elementval = int(elementval)\n"
   ]
  },
  {
   "cell_type": "code",
   "execution_count": 53,
   "metadata": {},
   "outputs": [
    {
     "name": "stdout",
     "output_type": "stream",
     "text": [
      "hello\n"
     ]
    }
   ],
   "source": [
    "if elementval == 0:\n",
    "    print('hello')\n",
    "\n",
    "else:\n",
    "    try:\n",
    "        wd.find_element(By.XPATH, '/html/body/div[4]/div[1]/section/div[1]/div[2]/div[2]/div[1]/div/div/div/div[2]/div/one-record-home-flexipage2/forcegenerated-adg-rollup_component___force-generated__flexipage_-record-page___-account_-f-e-a-s___-account___-v-i-e-w/forcegenerated-flexipage_account_feas_account__view_js/record_flexipage-record-page-decorator/div[1]/records-record-layout-event-broker/slot/slot/flexipage-record-home-three-col-header-template-desktop2/div/div[2]/div[1]/slot/flexipage-component2[2]/slot/lst-related-list-container/div/div[1]/lst-related-list-single-container/laf-progressive-container/slot/lst-related-list-single-aura-wrapper/div/div/article/div[1]/header/div[2]/h2/a/span[2]').click()\n",
    "    except:\n",
    "        print(\"No more contacts!\")\n",
    "        \n",
    "    "
   ]
  }
 ],
 "metadata": {
  "kernelspec": {
   "display_name": "Python 3",
   "language": "python",
   "name": "python3"
  },
  "language_info": {
   "codemirror_mode": {
    "name": "ipython",
    "version": 3
   },
   "file_extension": ".py",
   "mimetype": "text/x-python",
   "name": "python",
   "nbconvert_exporter": "python",
   "pygments_lexer": "ipython3",
   "version": "3.11.1"
  },
  "orig_nbformat": 4,
  "vscode": {
   "interpreter": {
    "hash": "aee8b7b246df8f9039afb4144a1f6fd8d2ca17a180786b69acc140d282b71a49"
   }
  }
 },
 "nbformat": 4,
 "nbformat_minor": 2
}
